{
 "cells": [
  {
   "cell_type": "code",
   "execution_count": 6,
   "id": "b17319fe-9f26-4583-b108-47046434da1b",
   "metadata": {},
   "outputs": [
    {
     "name": "stdout",
     "output_type": "stream",
     "text": [
      "+---------+--------+-------+----+------+------------+----------+-------+\n",
      "| apellido|comision|dept_no| dir|emp_no|   fecha_alt|    oficio|salario|\n",
      "+---------+--------+-------+----+------+------------+----------+-------+\n",
      "|      rey|       0|     10|   0|  7839|nov 17, 1995|PRESIDENTE| 650000|\n",
      "|    negro|       0|     30|7839|  7698| may 1, 1995|  DIRECTOR| 370500|\n",
      "|  jimenez|       0|     20|7839|  7566| abr 2, 1995|  DIRECTOR| 386750|\n",
      "|   cerezo|       0|     10|7839|  7782| jun 9, 1995|  DIRECTOR| 318500|\n",
      "|   arroyo|   39000|     30|7698|  7499|feb 20, 1994|  VENDEDOR| 208000|\n",
      "|     sala|   65000|     30|7698|  7521|feb 22, 1995|  VENDEDOR| 162500|\n",
      "|   martin|  182000|     30|7698|  7654|jul 29, 1995|  VENDEDOR| 162500|\n",
      "|    tovar|       0|     30|7698|  7844| jul 8, 1995|  VENDEDOR| 195000|\n",
      "|   jimeno|       0|     30|7698|  7900| dic 3, 1995|  EMPLEADO| 123500|\n",
      "|fernandez|       0|     20|7566|  7902| dic 3, 1995|  ANALISTA| 390000|\n",
      "|      gil|       0|     20|7566|  7788| nov 9, 1995|  ANALISTA| 390000|\n",
      "|  sanchez|       0|     20|7902|  7369|dic 17, 1994|  EMPLEADO| 104000|\n",
      "|   alonso|       0|     20|7788|  7876|jul 23, 1995|  EMPLEADO| 143000|\n",
      "|    muñoz|       0|     10|7782|  7934|ene 23, 1996|  EMPLEADO| 169000|\n",
      "+---------+--------+-------+----+------+------------+----------+-------+\n",
      "\n"
     ]
    }
   ],
   "source": [
    "import findspark \n",
    "\n",
    "findspark.init() \n",
    "\n",
    "from pyspark import SparkContext \n",
    "\n",
    "from pyspark.sql import SQLContext \n",
    "\n",
    " \n",
    "\n",
    "#sc = SparkContext('local', 'Spark SQL')  \n",
    "\n",
    "#sqlc = SQLContext(sc) \n",
    "\n",
    "empleados = sqlc.read.json(\"C:\\\\EjemplosApache\\\\empleados.json\") \n",
    "\n",
    " \n",
    "\n",
    "# PASO MUY IMPORTANTE: Generamos una tabla llamada EMP con los datos del JSON.  \n",
    "\n",
    "# Al generar la tabla podemos realizar consultas SQL. \n",
    "\n",
    " \n",
    "\n",
    "empleados.createOrReplaceTempView(\"EMP\") \n",
    "\n",
    " \n",
    "\n",
    "# Realizamos  consulta SQL \n",
    "\n",
    " \n",
    "\n",
    "empleadosConsulta = sqlc.sql(\"SELECT * FROM EMP\") \n",
    "\n",
    " \n",
    "\n",
    "empleadosConsulta.show() "
   ]
  },
  {
   "cell_type": "code",
   "execution_count": 7,
   "id": "8ae8f0bd-c5b3-4e98-95c4-db34108fd439",
   "metadata": {},
   "outputs": [],
   "source": [
    "def doble(num):\n",
    "    result = num*2\n",
    "    return result"
   ]
  },
  {
   "cell_type": "code",
   "execution_count": 8,
   "id": "3b71e0d9-b906-410b-a604-5d85c4ff444f",
   "metadata": {},
   "outputs": [
    {
     "data": {
      "text/plain": [
       "10"
      ]
     },
     "execution_count": 8,
     "metadata": {},
     "output_type": "execute_result"
    }
   ],
   "source": [
    "doble(5)"
   ]
  },
  {
   "cell_type": "code",
   "execution_count": 9,
   "id": "501b9c6a-9107-4dc4-a8c5-3d53d2c718eb",
   "metadata": {},
   "outputs": [],
   "source": [
    "def doble(num):\n",
    "    return num*2"
   ]
  },
  {
   "cell_type": "code",
   "execution_count": 10,
   "id": "f973663f-db6b-477b-a656-2aadd42333df",
   "metadata": {},
   "outputs": [
    {
     "data": {
      "text/plain": [
       "16"
      ]
     },
     "execution_count": 10,
     "metadata": {},
     "output_type": "execute_result"
    }
   ],
   "source": [
    "doble(8)"
   ]
  },
  {
   "cell_type": "code",
   "execution_count": 11,
   "id": "c74b8a99-c98f-4425-ac56-2040b0ef0e4c",
   "metadata": {},
   "outputs": [],
   "source": [
    "doble = lambda num: num*2"
   ]
  },
  {
   "cell_type": "code",
   "execution_count": 12,
   "id": "48010d2e-b404-42e8-a963-3220260289e0",
   "metadata": {},
   "outputs": [
    {
     "data": {
      "text/plain": [
       "20"
      ]
     },
     "execution_count": 12,
     "metadata": {},
     "output_type": "execute_result"
    }
   ],
   "source": [
    "doble(10)"
   ]
  },
  {
   "cell_type": "code",
   "execution_count": 13,
   "id": "0afd9de1-d95e-4546-828c-c4cca53a506c",
   "metadata": {},
   "outputs": [
    {
     "data": {
      "text/plain": [
       "True"
      ]
     },
     "execution_count": 13,
     "metadata": {},
     "output_type": "execute_result"
    }
   ],
   "source": [
    "par = lambda num : num%2 == 0\n",
    "\n",
    "par(20)"
   ]
  },
  {
   "cell_type": "code",
   "execution_count": 14,
   "id": "507e0d5b-1edc-4191-89e4-8c841a77be2b",
   "metadata": {},
   "outputs": [
    {
     "data": {
      "text/plain": [
       "'PERICO DE LOS PALOTES'"
      ]
     },
     "execution_count": 14,
     "metadata": {},
     "output_type": "execute_result"
    }
   ],
   "source": [
    "mayus = lambda nombre:  nombre.upper()\n",
    "mayus(\"perico de los palotes\")"
   ]
  },
  {
   "cell_type": "code",
   "execution_count": 15,
   "id": "eef19376-7170-430b-b23c-68386b16ffb0",
   "metadata": {},
   "outputs": [
    {
     "data": {
      "text/plain": [
       "24"
      ]
     },
     "execution_count": 15,
     "metadata": {},
     "output_type": "execute_result"
    }
   ],
   "source": [
    "sumaedades = lambda num1,num2 : num1+num2\n",
    "\n",
    "sumaedades(5,19)"
   ]
  },
  {
   "cell_type": "code",
   "execution_count": 18,
   "id": "9a5c8921-7a85-40b5-bbb7-d38e49d4a9b2",
   "metadata": {},
   "outputs": [
    {
     "name": "stdout",
     "output_type": "stream",
     "text": [
      "2\n",
      "4\n",
      "6\n",
      "8\n"
     ]
    }
   ],
   "source": [
    "numeros = [1,2,3,4,5,6,7,8,9]\n",
    "pares = list(filter(lambda num : num%2 == 0,numeros))\n",
    "for p in pares:\n",
    "    print(p)"
   ]
  },
  {
   "cell_type": "code",
   "execution_count": 20,
   "id": "e330f6ec-f232-4fcf-8d0b-21c88707b87e",
   "metadata": {},
   "outputs": [
    {
     "name": "stdout",
     "output_type": "stream",
     "text": [
      "['alberto', 'alejandro', 'andrea']\n"
     ]
    }
   ],
   "source": [
    "listaNombres =[\"pedro\",\"alberto\",\"rodrigo\",\"ivan\",\"alejandro\",\"andrea\",\"nacho\"]\n",
    "inicioA = list(filter(lambda x : x[0].upper() == \"A\", listaNombres))\n",
    "print(inicioA)"
   ]
  },
  {
   "cell_type": "code",
   "execution_count": 24,
   "id": "c5411042-c407-4e43-b85f-1efe59a9e3a0",
   "metadata": {},
   "outputs": [
    {
     "name": "stdout",
     "output_type": "stream",
     "text": [
      "[2, 4, 6, 8, 10, 12, 14, 16, 18]\n"
     ]
    }
   ],
   "source": [
    "numeros = [1,2,3,4,5,6,7,8,9]\n",
    "pares = list(map(lambda num : num*2,numeros))\n",
    "print(pares)"
   ]
  },
  {
   "cell_type": "code",
   "execution_count": 25,
   "id": "7ebb5a37-a837-48c1-a5b7-3a5bc1fda8dc",
   "metadata": {},
   "outputs": [
    {
     "name": "stdout",
     "output_type": "stream",
     "text": [
      "45\n"
     ]
    }
   ],
   "source": [
    "from functools import reduce\n",
    "numeros = [1,2,3,4,5,6,7,8,9]\n",
    "suma = reduce(lambda x, y: x + y, numeros)\n",
    "print(suma)"
   ]
  },
  {
   "cell_type": "code",
   "execution_count": 1,
   "id": "76584c48-3183-47f6-91e1-39bd9589a1e8",
   "metadata": {},
   "outputs": [
    {
     "name": "stdout",
     "output_type": "stream",
     "text": [
      "\n",
      "*** DATA FRAME ***\n",
      "   Nombre  Edad     Ciudad\n",
      "0  Benito    25     Madrid\n",
      "1  Andrea    30  Barcelona\n",
      "2   Floro    35    Sevilla\n",
      "3   María    45   Valencia\n",
      "\n",
      "*** DATA FRAME FILTRADO ***\n",
      "  Nombre  Edad    Ciudad\n",
      "2  Floro    35   Sevilla\n",
      "3  María    45  Valencia\n",
      "\n",
      "*** DATA FRAME ORDENADO POR EDAD ***\n",
      "   Nombre  Edad     Ciudad\n",
      "0  Benito    25     Madrid\n",
      "1  Andrea    30  Barcelona\n",
      "2   Floro    35    Sevilla\n",
      "3   María    45   Valencia\n"
     ]
    }
   ],
   "source": [
    "import pandas as pd \n",
    " \n",
    " \n",
    "# Crear un DataFrame a partir de un diccionario \n",
    "datos = {'Nombre': ['Benito', 'Andrea', 'Floro', 'María'], \n",
    "         'Edad': [25, 30, 35, 45], \n",
    "         'Ciudad': ['Madrid', 'Barcelona', 'Sevilla', 'Valencia']} \n",
    " \n",
    " \n",
    " \n",
    "df = pd.DataFrame(datos) \n",
    " \n",
    "# Mostrar el DataFrame \n",
    "print('\\n*** DATA FRAME ***') \n",
    "print(df) \n",
    " \n",
    "# Filtrar filas basado en una condición \n",
    "print('\\n*** DATA FRAME FILTRADO ***') \n",
    "df_filtrado = df[df['Edad'] > 30] \n",
    "print(df_filtrado) \n",
    " \n",
    "# Ordenar el DataFrame por una columna \n",
    "print('\\n*** DATA FRAME ORDENADO POR EDAD ***') \n",
    "df_ordenado = df.sort_values('Edad') \n",
    "print(df_ordenado) "
   ]
  },
  {
   "cell_type": "code",
   "execution_count": 2,
   "id": "dc6fcb93-1b9c-4b87-a16a-36b0b55ce5b9",
   "metadata": {},
   "outputs": [
    {
     "name": "stdout",
     "output_type": "stream",
     "text": [
      "\n",
      "*** DATA FRAME ***\n",
      "               nombre  edad     género      ocupación\n",
      "0          John Smith    27  Masculino      Ingeniero\n",
      "1       Emily Johnson    35   Femenino     Arquitecta\n",
      "2        Daniel Brown    42  Masculino         Músico\n",
      "3        Sophia Davis    29   Femenino     Científica\n",
      "4       Oliver Wilson    33  Masculino      Diseñador\n",
      "5         Emma Taylor    31   Femenino      Escritora\n",
      "6    William Anderson    38  Masculino       Cocinero\n",
      "7        Ava Martinez    26   Femenino  Investigadora\n",
      "8      James Thompson    44  Masculino      Fotógrafo\n",
      "9     Isabella Thomas    30   Femenino        Abogada\n",
      "10  Benjamin Robinson    36  Masculino       Profesor\n",
      "11          Mia Clark    28   Femenino        Artista\n",
      "12    Henry Rodriguez    39  Masculino     Empresario\n",
      "13    Charlotte Green    32   Femenino      Psicóloga\n",
      "14        Michael Lee    43  Masculino     Periodista\n",
      "15    Sophia Mitchell    34   Femenino   Programadora\n",
      "16       David Carter    37  Masculino         Piloto\n",
      "17       Olivia Lewis    25   Femenino     Deportista\n",
      "18      Matthew White    41  Masculino   Investigador\n",
      "19        Amelia Hall    33   Femenino     Diseñadora\n",
      "20    Alexander Scott    40  Masculino       Escultor\n",
      "21    Elizabeth Adams    27   Femenino    Veterinaria\n",
      "22      Daniel Wright    36  Masculino       Cineasta\n",
      "23       Sofia Harris    31   Femenino      Ingeniera\n",
      "24       James Walker    45  Masculino       Escritor\n",
      "25       Emily Turner    29   Femenino     Arqueóloga\n",
      "26     Jacob Campbell    38  Masculino         Médico\n",
      "27         Avery Hill    26   Femenino  Investigadora\n",
      "28        Logan Baker    42  Masculino      Fotógrafo\n",
      "29        Chloe Young    30   Femenino     Empresaria\n",
      "30        Joshua King    35  Masculino         Músico\n",
      "31       Madison Reed    32   Femenino        Artista\n",
      "\n",
      "*** PRIMERAS 10 FILAS ***\n",
      "             nombre  edad     género      ocupación\n",
      "0        John Smith    27  Masculino      Ingeniero\n",
      "1     Emily Johnson    35   Femenino     Arquitecta\n",
      "2      Daniel Brown    42  Masculino         Músico\n",
      "3      Sophia Davis    29   Femenino     Científica\n",
      "4     Oliver Wilson    33  Masculino      Diseñador\n",
      "5       Emma Taylor    31   Femenino      Escritora\n",
      "6  William Anderson    38  Masculino       Cocinero\n",
      "7      Ava Martinez    26   Femenino  Investigadora\n",
      "8    James Thompson    44  Masculino      Fotógrafo\n",
      "9   Isabella Thomas    30   Femenino        Abogada\n",
      "\n",
      "*** DICCIONARIO ***\n",
      "{'nombre': 'John Smith', 'edad': 27, 'género': 'Masculino', 'ocupación': 'Ingeniero'}\n",
      "{'nombre': 'Emily Johnson', 'edad': 35, 'género': 'Femenino', 'ocupación': 'Arquitecta'}\n",
      "{'nombre': 'Daniel Brown', 'edad': 42, 'género': 'Masculino', 'ocupación': 'Músico'}\n",
      "{'nombre': 'Sophia Davis', 'edad': 29, 'género': 'Femenino', 'ocupación': 'Científica'}\n",
      "{'nombre': 'Oliver Wilson', 'edad': 33, 'género': 'Masculino', 'ocupación': 'Diseñador'}\n",
      "{'nombre': 'Emma Taylor', 'edad': 31, 'género': 'Femenino', 'ocupación': 'Escritora'}\n",
      "{'nombre': 'William Anderson', 'edad': 38, 'género': 'Masculino', 'ocupación': 'Cocinero'}\n",
      "{'nombre': 'Ava Martinez', 'edad': 26, 'género': 'Femenino', 'ocupación': 'Investigadora'}\n",
      "{'nombre': 'James Thompson', 'edad': 44, 'género': 'Masculino', 'ocupación': 'Fotógrafo'}\n",
      "{'nombre': 'Isabella Thomas', 'edad': 30, 'género': 'Femenino', 'ocupación': 'Abogada'}\n",
      "{'nombre': 'Benjamin Robinson', 'edad': 36, 'género': 'Masculino', 'ocupación': 'Profesor'}\n",
      "{'nombre': 'Mia Clark', 'edad': 28, 'género': 'Femenino', 'ocupación': 'Artista'}\n",
      "{'nombre': 'Henry Rodriguez', 'edad': 39, 'género': 'Masculino', 'ocupación': 'Empresario'}\n",
      "{'nombre': 'Charlotte Green', 'edad': 32, 'género': 'Femenino', 'ocupación': 'Psicóloga'}\n",
      "{'nombre': 'Michael Lee', 'edad': 43, 'género': 'Masculino', 'ocupación': 'Periodista'}\n",
      "{'nombre': 'Sophia Mitchell', 'edad': 34, 'género': 'Femenino', 'ocupación': 'Programadora'}\n",
      "{'nombre': 'David Carter', 'edad': 37, 'género': 'Masculino', 'ocupación': 'Piloto'}\n",
      "{'nombre': 'Olivia Lewis', 'edad': 25, 'género': 'Femenino', 'ocupación': 'Deportista'}\n",
      "{'nombre': 'Matthew White', 'edad': 41, 'género': 'Masculino', 'ocupación': 'Investigador'}\n",
      "{'nombre': 'Amelia Hall', 'edad': 33, 'género': 'Femenino', 'ocupación': 'Diseñadora'}\n",
      "{'nombre': 'Alexander Scott', 'edad': 40, 'género': 'Masculino', 'ocupación': 'Escultor'}\n",
      "{'nombre': 'Elizabeth Adams', 'edad': 27, 'género': 'Femenino', 'ocupación': 'Veterinaria'}\n",
      "{'nombre': 'Daniel Wright', 'edad': 36, 'género': 'Masculino', 'ocupación': 'Cineasta'}\n",
      "{'nombre': 'Sofia Harris', 'edad': 31, 'género': 'Femenino', 'ocupación': 'Ingeniera'}\n",
      "{'nombre': 'James Walker', 'edad': 45, 'género': 'Masculino', 'ocupación': 'Escritor'}\n",
      "{'nombre': 'Emily Turner', 'edad': 29, 'género': 'Femenino', 'ocupación': 'Arqueóloga'}\n",
      "{'nombre': 'Jacob Campbell', 'edad': 38, 'género': 'Masculino', 'ocupación': 'Médico'}\n",
      "{'nombre': 'Avery Hill', 'edad': 26, 'género': 'Femenino', 'ocupación': 'Investigadora'}\n",
      "{'nombre': 'Logan Baker', 'edad': 42, 'género': 'Masculino', 'ocupación': 'Fotógrafo'}\n",
      "{'nombre': 'Chloe Young', 'edad': 30, 'género': 'Femenino', 'ocupación': 'Empresaria'}\n",
      "{'nombre': 'Joshua King', 'edad': 35, 'género': 'Masculino', 'ocupación': 'Músico'}\n",
      "{'nombre': 'Madison Reed', 'edad': 32, 'género': 'Femenino', 'ocupación': 'Artista'}\n"
     ]
    }
   ],
   "source": [
    "import pandas as pd \n",
    " \n",
    "# Cargar datos desde un archivo CSV \n",
    "df = pd.read_csv('C:\\\\EjemplosApache\\\\datos.csv', delimiter=';') \n",
    " \n",
    " \n",
    "# Mostrar el DataFrame \n",
    "print('\\n*** DATA FRAME ***') \n",
    "print(df) \n",
    " \n",
    "print('\\n*** PRIMERAS 10 FILAS ***') \n",
    "print(df.head(10)) \n",
    " \n",
    " \n",
    "print('\\n*** DICCIONARIO ***') \n",
    "''' \n",
    "Convertir el DataFrame en un diccionario de registros \n",
    "Cada registro es un diccionario con: \n",
    "* claves correspondientes a los nombres de las columnas \n",
    "* valores correspondientes a los datos de cada fila. \n",
    "''' \n",
    "diccionario = df.to_dict(orient='records') \n",
    " \n",
    "for registro in diccionario: \n",
    "    print(registro) "
   ]
  },
  {
   "cell_type": "code",
   "execution_count": null,
   "id": "7e43ce3d-5ca2-4783-a4fe-53a0cc089727",
   "metadata": {},
   "outputs": [],
   "source": [
    "\n"
   ]
  }
 ],
 "metadata": {
  "kernelspec": {
   "display_name": "Python 3 (ipykernel)",
   "language": "python",
   "name": "python3"
  },
  "language_info": {
   "codemirror_mode": {
    "name": "ipython",
    "version": 3
   },
   "file_extension": ".py",
   "mimetype": "text/x-python",
   "name": "python",
   "nbconvert_exporter": "python",
   "pygments_lexer": "ipython3",
   "version": "3.12.3"
  }
 },
 "nbformat": 4,
 "nbformat_minor": 5
}
